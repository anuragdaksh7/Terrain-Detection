{
 "cells": [
  {
   "cell_type": "code",
   "execution_count": null,
   "id": "095c2486-20bf-45d5-b3e1-1162b7760f5b",
   "metadata": {},
   "outputs": [],
   "source": []
  }
 ],
 "metadata": {
  "kernelspec": {
   "display_name": "",
   "name": ""
  },
  "language_info": {
   "name": ""
  }
 },
 "nbformat": 4,
 "nbformat_minor": 5
}
